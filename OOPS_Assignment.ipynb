{
 "cells": [
  {
   "cell_type": "code",
   "execution_count": 1,
   "id": "22770d67-420a-46ee-bbc7-acda27340c9e",
   "metadata": {},
   "outputs": [],
   "source": [
    "# Ques1) What are the five key points for Object Oriented Programming(OOPS)?"
   ]
  },
  {
   "cell_type": "code",
   "execution_count": 2,
   "id": "68716d65-4154-4596-ba0b-3496a63c3430",
   "metadata": {},
   "outputs": [],
   "source": [
    "# five key points of Object-Oriented Programming (OOP) in Python:\n",
    "\n",
    "# Classes and Objects:\n",
    "# Class: A blueprint for creating objects (a particular data structure).\n",
    "# Object: An instance of a class.\n",
    "\n",
    "# Encapsulation:\n",
    "# Bundling data (attributes) and methods (functions) that operate on the data into a single unit or class.\n",
    "# Restricting direct access to some of an object’s components.\n",
    "\n",
    "# Inheritance:\n",
    "# Mechanism to create a new class using details of an existing class without modifying it.\n",
    "# The new class is called the derived (or child) class, and the one from which it inherits is the base (or parent) class.\n",
    "\n",
    "# Polymorphism:\n",
    "# Ability to use a common interface for multiple forms (data types).\n",
    "# For example, a method can perform different tasks based on the object that it is acting upon.\n",
    "\n",
    "# Abstraction:\n",
    "# Hiding the complex implementation details and showing only the essential features of the object.\n",
    "# Helps in reducing programming complexity and effort."
   ]
  },
  {
   "cell_type": "code",
   "execution_count": 3,
   "id": "93c7883d-a01a-431e-bcba-ab3bc18a2902",
   "metadata": {},
   "outputs": [],
   "source": [
    "# Ques2) Write a python class for a 'Car' with attributes for 'make' , 'model' and 'year'. Include a method to display the car's information."
   ]
  },
  {
   "cell_type": "code",
   "execution_count": 4,
   "id": "f3344c14-ca59-4361-a4b2-0e2fa5b1483d",
   "metadata": {},
   "outputs": [
    {
     "name": "stdout",
     "output_type": "stream",
     "text": [
      "Car: 2020 Toyota Corolla\n"
     ]
    }
   ],
   "source": [
    "class Car:\n",
    "    def __init__(self, make, model, year):\n",
    "        self.make = make\n",
    "        self.model = model\n",
    "        self.year = year\n",
    "\n",
    "    def display_info(self):\n",
    "        print(f\"Car: {self.year} {self.make} {self.model}\")\n",
    "\n",
    "# Example \n",
    "my_car = Car(\"Toyota\", \"Corolla\", 2020)\n",
    "my_car.display_info()"
   ]
  },
  {
   "cell_type": "code",
   "execution_count": 5,
   "id": "603d407b-bac4-4ff9-b235-4fbb9fc6d3f5",
   "metadata": {},
   "outputs": [],
   "source": [
    "# Ques3) Explain the difference between instance methods and class methods. Provide an example for each."
   ]
  },
  {
   "cell_type": "code",
   "execution_count": 6,
   "id": "8a8358ca-e117-4e1a-acc0-62af463be213",
   "metadata": {},
   "outputs": [
    {
     "name": "stdout",
     "output_type": "stream",
     "text": [
      "Hi, my name is John and I am 30 years old.\n",
      "Hi, my name is Alice and I am 25 years old.\n"
     ]
    }
   ],
   "source": [
    "# An instance method is a method that operates on a specific object (instance) of a class, meaning it requires an object to be created before it can be\n",
    "# called, while a class method is a method that operates on the class itself, allowing it to be called without creating an object first\n",
    "\n",
    "class Person:\n",
    "\n",
    "    def __init__(self, name, age):\n",
    "        self.name = name\n",
    "        self.age = age\n",
    "\n",
    "    def introduce_self(self):  # Instance method\n",
    "        return f\"Hi, my name is {self.name} and I am {self.age} years old.\"\n",
    "\n",
    "    @classmethod\n",
    "\n",
    "    def from_string(cls, person_string):  # Class method\n",
    "        name, age = person_string.split(\",\")\n",
    "        return cls(name, int(age)) \n",
    "\n",
    "person1 = Person(\"John\", 30)\n",
    "\n",
    "print(person1.introduce_self()) \n",
    "\n",
    "person2 = Person.from_string(\"Alice, 25\")  \n",
    "\n",
    "print(person2.introduce_self()) "
   ]
  },
  {
   "cell_type": "code",
   "execution_count": 7,
   "id": "c31f4f00-1c32-4db2-b6c7-1feadffc75b0",
   "metadata": {},
   "outputs": [],
   "source": [
    "# Ques4) How does python implement method overloading? Give an example."
   ]
  },
  {
   "cell_type": "code",
   "execution_count": 8,
   "id": "e1c2c826-f0e7-4247-acc4-1d1abfa02fd6",
   "metadata": {},
   "outputs": [
    {
     "name": "stdout",
     "output_type": "stream",
     "text": [
      "60\n",
      "30\n",
      "10\n"
     ]
    }
   ],
   "source": [
    "# Python does not support method overloading by default. However, you can achieve similar functionality using default arguments or variable-length \n",
    "# arguments. Here’s an example using default arguments:\n",
    "\n",
    "class Example:\n",
    "    def add(self, a=None, b=None, c=None):\n",
    "        if a is not None and b is not None and c is not None:\n",
    "            return a + b + c\n",
    "        elif a is not None and b is not None:\n",
    "            return a + b\n",
    "        else:\n",
    "            return a\n",
    "\n",
    "\n",
    "obj = Example()\n",
    "print(obj.add(10, 20, 30)) \n",
    "print(obj.add(10, 20))      \n",
    "print(obj.add(10))         \n"
   ]
  },
  {
   "cell_type": "code",
   "execution_count": 9,
   "id": "2b607c12-4109-4c85-9195-d35c151dbb38",
   "metadata": {},
   "outputs": [],
   "source": [
    "# Ques 5) What are the three types of access modifiers in python? How they are denoted?"
   ]
  },
  {
   "cell_type": "code",
   "execution_count": 10,
   "id": "673c9130-4dca-4e3d-9488-344da6969019",
   "metadata": {},
   "outputs": [],
   "source": [
    "# The three types of access modifiers in Python are public, protected, and private: \n",
    "\n",
    "# Public\n",
    "# The least restrictive modifier, allowing access to members from anywhere in the program. \n",
    "# Protected\n",
    "# Allows members to be accessed by members within a class or by its subclasses. Protected access is denoted by a single underscore. \n",
    "# Private\n",
    "# The most restrictive modifier, limiting access to members within the same class. Private access is denoted by a double underscore. \n",
    "# Access modifiers are important for maintaining data security, preventing unauthorized modifications, and organizing code. "
   ]
  },
  {
   "cell_type": "code",
   "execution_count": 11,
   "id": "aca1511c-7692-48dd-ad3a-daf114088be8",
   "metadata": {},
   "outputs": [],
   "source": [
    "# Ques 6) Describe the five types of inheritance in Python. Provide me a sample example of multiple inheritance."
   ]
  },
  {
   "cell_type": "code",
   "execution_count": 16,
   "id": "3e4e2884-162d-4c87-9a87-5ecc17171ce9",
   "metadata": {},
   "outputs": [
    {
     "name": "stdout",
     "output_type": "stream",
     "text": [
      "This is from Parent1\n",
      "This is from Parent2\n"
     ]
    }
   ],
   "source": [
    "# The five types of inheritance in Python:\n",
    "\n",
    "# Single Inheritance: A class inherits from one parent class.\n",
    "# Multiple Inheritance: A class inherits from more than one parent class.\n",
    "# Multilevel Inheritance: A class inherits from a parent class, which in turn inherits from another parent class.\n",
    "# Hierarchical Inheritance: Multiple classes inherit from a single parent class.\n",
    "# Hybrid Inheritance: A combination of two or more types of inheritance.\n",
    "\n",
    "# Example of Multiple Inheritance\n",
    "\n",
    "class Parent1:\n",
    "    def func1(self):\n",
    "        print(\"This is from Parent1\")\n",
    "\n",
    "class Parent2:\n",
    "    def func2(self):\n",
    "        print(\"This is from Parent2\")\n",
    "\n",
    "class Child(Parent1, Parent2):\n",
    "    pass\n",
    "\n",
    "# Example usage\n",
    "child = Child()\n",
    "child.func1()  # Output: This is from Parent1\n",
    "child.func2()  # Output: This is from Parent2"
   ]
  },
  {
   "cell_type": "code",
   "execution_count": 17,
   "id": "deb16f86-4a23-4da0-b734-85f0285f922f",
   "metadata": {},
   "outputs": [],
   "source": [
    "# Ques7) What is Method Resolution Order(MRO) in Python? How can you retrive it programmatically."
   ]
  },
  {
   "cell_type": "code",
   "execution_count": 18,
   "id": "df139089-13d3-4296-8a5c-b4ec33f4e984",
   "metadata": {},
   "outputs": [
    {
     "name": "stdout",
     "output_type": "stream",
     "text": [
      "(<class '__main__.D'>, <class '__main__.B'>, <class '__main__.C'>, <class '__main__.A'>, <class 'object'>)\n",
      "[<class '__main__.D'>, <class '__main__.B'>, <class '__main__.C'>, <class '__main__.A'>, <class 'object'>]\n"
     ]
    }
   ],
   "source": [
    "# Method Resolution Order (MRO) in Python is the order in which Python looks for a method in a hierarchy of classes. It is especially important in \n",
    "# the context of multiple inheritance, where a class is derived from more than one base class. MRO ensures that the correct method is called by \n",
    "# following a specific order.\n",
    "\n",
    "# Retrieving MRO Programmatically\n",
    "# You can retrieve the MRO of a class using the __mro__ attribute or the mro() method. Here’s an example:\n",
    "\n",
    "class A:\n",
    "    pass\n",
    "\n",
    "class B(A):\n",
    "    pass\n",
    "\n",
    "class C(A):\n",
    "    pass\n",
    "\n",
    "class D(B, C):\n",
    "    pass\n",
    "\n",
    "# Using __mro__ attribute\n",
    "print(D.__mro__)\n",
    "\n",
    "# Using mro() method\n",
    "print(D.mro())"
   ]
  },
  {
   "cell_type": "code",
   "execution_count": 19,
   "id": "d83ce15a-ab33-401d-9fe1-26bea1c93418",
   "metadata": {},
   "outputs": [],
   "source": [
    "# Ques8) Create an abstract base class 'Shape' with an abstract method 'area()'. Then create two subclasses 'Circle' and 'Rectangle' that implements\n",
    "# the area() method."
   ]
  },
  {
   "cell_type": "code",
   "execution_count": 20,
   "id": "e0206608-892c-431f-b1d9-02c051a9e334",
   "metadata": {},
   "outputs": [
    {
     "name": "stdout",
     "output_type": "stream",
     "text": [
      "Circle area: 78.53981633974483\n",
      "Rectangle area: 24\n"
     ]
    }
   ],
   "source": [
    "from abc import ABC, abstractmethod\n",
    "import math\n",
    "\n",
    "class Shape(ABC):\n",
    "    @abstractmethod\n",
    "    def area(self):\n",
    "        pass\n",
    "\n",
    "class Circle(Shape):\n",
    "    def __init__(self, radius):\n",
    "        self.radius = radius\n",
    "\n",
    "    def area(self):\n",
    "        return math.pi * self.radius ** 2\n",
    "\n",
    "class Rectangle(Shape):\n",
    "    def __init__(self, width, height):\n",
    "        self.width = width\n",
    "        self.height = height\n",
    "\n",
    "    def area(self):\n",
    "        return self.width * self.height\n",
    "\n",
    "# Example usage:\n",
    "circle = Circle(5)\n",
    "rectangle = Rectangle(4, 6)\n",
    "\n",
    "print(f\"Circle area: {circle.area()}\")\n",
    "print(f\"Rectangle area: {rectangle.area()}\")"
   ]
  },
  {
   "cell_type": "code",
   "execution_count": 21,
   "id": "c97bcd28-8de7-41de-9739-acb3e9d4938b",
   "metadata": {},
   "outputs": [],
   "source": [
    "# Ques 9) Demonstrate polymorphism by creating a function that can work with different shape objects to calculate and print their areas."
   ]
  },
  {
   "cell_type": "code",
   "execution_count": 22,
   "id": "0281b159-b0d4-45cd-8848-b4a268e06e07",
   "metadata": {},
   "outputs": [
    {
     "name": "stdout",
     "output_type": "stream",
     "text": [
      "The area is: 78.53981633974483\n",
      "The area is: 24\n"
     ]
    }
   ],
   "source": [
    "def print_area(shape):\n",
    "    print(f\"The area is: {shape.area()}\")\n",
    "\n",
    "# Example usage:\n",
    "circle = Circle(5)\n",
    "rectangle = Rectangle(4, 6)\n",
    "\n",
    "print_area(circle)\n",
    "print_area(rectangle)"
   ]
  },
  {
   "cell_type": "code",
   "execution_count": 23,
   "id": "4e6868a0-2507-40a8-a431-76902cd66dd4",
   "metadata": {},
   "outputs": [],
   "source": [
    "# Ques 10) Implement encaplsulation in a 'Bank Account' class with private attributes for 'balance' and 'account_number'. Include mehtods for deposit ,\n",
    "# withdrawal and balance inquiry"
   ]
  },
  {
   "cell_type": "code",
   "execution_count": 24,
   "id": "e14e4c61-7556-40d9-9dfb-d2827418bd14",
   "metadata": {},
   "outputs": [
    {
     "name": "stdout",
     "output_type": "stream",
     "text": [
      "Deposited: 1000\n",
      "Withdrew: 500\n",
      "Balance: 500\n"
     ]
    }
   ],
   "source": [
    "class BankAccount:\n",
    "    def __init__(self, account_number, initial_balance=0):\n",
    "        self.__account_number = account_number\n",
    "        self.__balance = initial_balance\n",
    "\n",
    "    def deposit(self, amount):\n",
    "        if amount > 0:\n",
    "            self.__balance += amount\n",
    "            print(f\"Deposited: {amount}\")\n",
    "        else:\n",
    "            print(\"Deposit amount must be positive.\")\n",
    "\n",
    "    def withdraw(self, amount):\n",
    "        if 0 < amount <= self.__balance:\n",
    "            self.__balance -= amount\n",
    "            print(f\"Withdrew: {amount}\")\n",
    "        else:\n",
    "            print(\"Insufficient balance or invalid amount.\")\n",
    "\n",
    "    def get_balance(self):\n",
    "        return self.__balance\n",
    "\n",
    "\n",
    "account = BankAccount(\"123456789\")\n",
    "account.deposit(1000)\n",
    "account.withdraw(500)\n",
    "print(f\"Balance: {account.get_balance()}\")\n"
   ]
  },
  {
   "cell_type": "code",
   "execution_count": 25,
   "id": "cbd6f941-cdb9-4010-aa8d-a8802e8151cd",
   "metadata": {},
   "outputs": [],
   "source": [
    "# Ques 11) Write a class that overiddes the '__str__' and '__add__' magic methods. what will these mehtods allow you to do."
   ]
  },
  {
   "cell_type": "code",
   "execution_count": 26,
   "id": "c06853d3-0245-423f-be68-d4b7fae8b73e",
   "metadata": {},
   "outputs": [
    {
     "name": "stdout",
     "output_type": "stream",
     "text": [
      "Vector(2, 3)\n",
      "Vector(4, 5)\n",
      "Vector(6, 8)\n"
     ]
    }
   ],
   "source": [
    "class Vector:\n",
    "    def __init__(self, x, y):\n",
    "        self.x = x\n",
    "        self.y = y\n",
    "\n",
    "    def __str__(self):\n",
    "        return f\"Vector({self.x}, {self.y})\"\n",
    "\n",
    "    def __add__(self, other):\n",
    "        return Vector(self.x + other.x, self.y + other.y)\n",
    "\n",
    "# Example\n",
    "v1 = Vector(2, 3)\n",
    "v2 = Vector(4, 5)\n",
    "v3 = v1 + v2\n",
    "\n",
    "print(v1)\n",
    "print(v2)  \n",
    "print(v3)  "
   ]
  },
  {
   "cell_type": "code",
   "execution_count": 27,
   "id": "dd5fd169-8c67-4a9f-9920-fa0aff894239",
   "metadata": {},
   "outputs": [],
   "source": [
    "# Ques 12) Create a decorator that mesaures and prints the execution time of a function."
   ]
  },
  {
   "cell_type": "code",
   "execution_count": 28,
   "id": "d2d9faa1-887e-48d0-bb72-b76513b8ddf4",
   "metadata": {},
   "outputs": [
    {
     "name": "stdout",
     "output_type": "stream",
     "text": [
      "Function example_function took 0.0297 seconds\n"
     ]
    },
    {
     "data": {
      "text/plain": [
       "499999500000"
      ]
     },
     "execution_count": 28,
     "metadata": {},
     "output_type": "execute_result"
    }
   ],
   "source": [
    "import time\n",
    "\n",
    "def timeit(func):\n",
    "    def wrapper(*args, **kwargs):\n",
    "        start_time = time.perf_counter()\n",
    "        result = func(*args, **kwargs)\n",
    "        end_time = time.perf_counter()\n",
    "        print(f\"Function {func.__name__} took {end_time - start_time:.4f} seconds\")\n",
    "        return result\n",
    "    return wrapper\n",
    "\n",
    "# Example:\n",
    "@timeit\n",
    "def example_function(n):\n",
    "    total = sum(range(n))\n",
    "    return total\n",
    "\n",
    "example_function(1000000)"
   ]
  },
  {
   "cell_type": "code",
   "execution_count": 29,
   "id": "31ee5a86-d8a6-44b1-8414-c394941817a3",
   "metadata": {},
   "outputs": [],
   "source": [
    "# Ques 13) Explain the concept of Diamond Problem in multiple Inheritance. How does python resolve it?"
   ]
  },
  {
   "cell_type": "code",
   "execution_count": 30,
   "id": "5851bc72-a7e9-46a0-9eaf-ba4d48548594",
   "metadata": {},
   "outputs": [
    {
     "name": "stdout",
     "output_type": "stream",
     "text": [
      "B\n",
      "(<class '__main__.D'>, <class '__main__.B'>, <class '__main__.C'>, <class '__main__.A'>, <class 'object'>)\n"
     ]
    }
   ],
   "source": [
    "# The Diamond Problem in multiple inheritance occurs when a class inherits from two classes that both inherit from a common base class, creating a \n",
    "# diamond-shaped inheritance structure. This can lead to ambiguity in method resolution.\n",
    "\n",
    "# Python resolves this using the Method Resolution Order (MRO), which is determined by the C3 linearization algorithm. The super() function and \n",
    "# the __mro__ attribute help manage this order, ensuring a consistent and predictable method lookup.\n",
    "\n",
    "# Here’s a simple example:\n",
    "    \n",
    "class A:\n",
    "    def method(self):\n",
    "        print(\"A\")\n",
    "\n",
    "class B(A):\n",
    "    def method(self):\n",
    "        print(\"B\")\n",
    "\n",
    "class C(A):\n",
    "    def method(self):\n",
    "        print(\"C\")\n",
    "\n",
    "class D(B, C):\n",
    "    pass\n",
    "\n",
    "d = D()\n",
    "d.method()  \n",
    "print(D.__mro__)"
   ]
  },
  {
   "cell_type": "code",
   "execution_count": 31,
   "id": "6cab6cde-24bd-4c99-9565-c10db153a3a5",
   "metadata": {},
   "outputs": [],
   "source": [
    "# Ques 14) Write a class method that keeps track of the number of instances created from a class."
   ]
  },
  {
   "cell_type": "code",
   "execution_count": 32,
   "id": "e9cfea9c-dc1f-4577-a8d7-a1c03f535e9d",
   "metadata": {},
   "outputs": [
    {
     "name": "stdout",
     "output_type": "stream",
     "text": [
      "3\n"
     ]
    }
   ],
   "source": [
    "class InstanceCounter:\n",
    "    instance_count = 0\n",
    "\n",
    "    def __init__(self):\n",
    "        InstanceCounter.instance_count += 1\n",
    "\n",
    "    @classmethod\n",
    "    def get_instance_count(cls):\n",
    "        return cls.instance_count\n",
    "\n",
    "# Example usage\n",
    "obj1 = InstanceCounter()\n",
    "obj2 = InstanceCounter()\n",
    "obj3 = InstanceCounter()\n",
    "\n",
    "print(InstanceCounter.get_instance_count())"
   ]
  },
  {
   "cell_type": "code",
   "execution_count": 33,
   "id": "9c1cb3a0-5e2d-414d-82b0-339fdf578a0e",
   "metadata": {},
   "outputs": [],
   "source": [
    "# Ques 15) Implement a static method in a class that checks if a given year is a leap year. "
   ]
  },
  {
   "cell_type": "code",
   "execution_count": 34,
   "id": "944b5e64-e527-4741-952b-81e8c62fedc6",
   "metadata": {},
   "outputs": [
    {
     "name": "stdout",
     "output_type": "stream",
     "text": [
      "True\n",
      "False\n"
     ]
    }
   ],
   "source": [
    "class YearChecker:\n",
    "    @staticmethod\n",
    "    def is_leap_year(year):\n",
    "        if (year % 4 == 0 and year % 100 != 0) or (year % 400 == 0):\n",
    "            return True\n",
    "        return False\n",
    "\n",
    "# Example usage\n",
    "print(YearChecker.is_leap_year(2020))  \n",
    "print(YearChecker.is_leap_year(2021))  "
   ]
  },
  {
   "cell_type": "code",
   "execution_count": null,
   "id": "0e2146ff-a37e-4dad-b36e-d792c76d31e3",
   "metadata": {},
   "outputs": [],
   "source": []
  }
 ],
 "metadata": {
  "kernelspec": {
   "display_name": "Python 3 (ipykernel)",
   "language": "python",
   "name": "python3"
  },
  "language_info": {
   "codemirror_mode": {
    "name": "ipython",
    "version": 3
   },
   "file_extension": ".py",
   "mimetype": "text/x-python",
   "name": "python",
   "nbconvert_exporter": "python",
   "pygments_lexer": "ipython3",
   "version": "3.10.8"
  }
 },
 "nbformat": 4,
 "nbformat_minor": 5
}
